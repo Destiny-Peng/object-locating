{
 "cells": [
  {
   "cell_type": "code",
   "execution_count": 18,
   "metadata": {},
   "outputs": [],
   "source": [
    "import random\n",
    "import numpy as np\n",
    "from tensorflow import keras\n",
    "from nets.backbone import mobilenetv2_backbone\n",
    "from utils.ssd_dataloader import ssd_dataset\n",
    "from utils.util import *"
   ]
  },
  {
   "cell_type": "code",
   "execution_count": 19,
   "metadata": {},
   "outputs": [],
   "source": [
    "def decodes(labels):\n",
    "    coords =[]\n",
    "    for label in labels:\n",
    "        pos = encode(label)\n",
    "        coords.append(pos)\n",
    "    return coords"
   ]
  },
  {
   "cell_type": "code",
   "execution_count": 20,
   "metadata": {},
   "outputs": [],
   "source": [
    "class test_dataset(ssd_dataset):\n",
    "    def __getitem__(self, item):\n",
    "        batch = self.paths[item * self.batch_size:(item + 1) * self.batch_size]\n",
    "        imgs = []\n",
    "        labels = []\n",
    "        for path in batch:\n",
    "            bg_img_path = self.bg_paths[random.randint(0,len(self.bg_paths)-1)]\n",
    "            img,label=self.creat_random_data(path,bg_img_path)\n",
    "            imgs.append(img)\n",
    "            labels.append(label)\n",
    "        labels = decodes(labels)\n",
    "        return np.array(imgs,dtype=np.float32),np.array(labels,dtype=np.float32)"
   ]
  },
  {
   "cell_type": "code",
   "execution_count": 21,
   "metadata": {},
   "outputs": [
    {
     "ename": "TypeError",
     "evalue": "__init__() got an unexpected keyword argument 'img_num'",
     "output_type": "error",
     "traceback": [
      "\u001b[1;31m---------------------------------------------------------------------------\u001b[0m",
      "\u001b[1;31mTypeError\u001b[0m                                 Traceback (most recent call last)",
      "Cell \u001b[1;32mIn[21], line 1\u001b[0m\n\u001b[1;32m----> 1\u001b[0m dataset \u001b[39m=\u001b[39m test_dataset(root \u001b[39m=\u001b[39;49m \u001b[39mr\u001b[39;49m\u001b[39m'\u001b[39;49m\u001b[39mC:\u001b[39;49m\u001b[39m\\\u001b[39;49m\u001b[39mProject\u001b[39;49m\u001b[39m\\\u001b[39;49m\u001b[39mpython\u001b[39;49m\u001b[39m\\\u001b[39;49m\u001b[39mdataset\u001b[39;49m\u001b[39m\\\u001b[39;49m\u001b[39m加框后的JPEG图\u001b[39;49m\u001b[39m'\u001b[39;49m,\n\u001b[0;32m      2\u001b[0m                         batch_size\u001b[39m=\u001b[39;49m\u001b[39m4\u001b[39;49m,bg_r\u001b[39m=\u001b[39;49m\u001b[39m96\u001b[39;49m,bg_w\u001b[39m=\u001b[39;49m\u001b[39m128\u001b[39;49m,\n\u001b[0;32m      3\u001b[0m                         bg_root\u001b[39m=\u001b[39;49m\u001b[39mr\u001b[39;49m\u001b[39m'\u001b[39;49m\u001b[39mC:\u001b[39;49m\u001b[39m\\\u001b[39;49m\u001b[39mProject\u001b[39;49m\u001b[39m\\\u001b[39;49m\u001b[39mpython\u001b[39;49m\u001b[39m\\\u001b[39;49m\u001b[39mdataset\u001b[39;49m\u001b[39m\\\u001b[39;49m\u001b[39mbackground\u001b[39;49m\u001b[39m'\u001b[39;49m,\n\u001b[0;32m      4\u001b[0m                         img_num\u001b[39m=\u001b[39;49m\u001b[39m1\u001b[39;49m)\n\u001b[0;32m      6\u001b[0m \u001b[39mfor\u001b[39;00m (img,label) \u001b[39min\u001b[39;00m dataset:\n\u001b[0;32m      7\u001b[0m     \u001b[39mprint\u001b[39m(img\u001b[39m.\u001b[39mshape)\n",
      "\u001b[1;31mTypeError\u001b[0m: __init__() got an unexpected keyword argument 'img_num'"
     ]
    }
   ],
   "source": [
    "dataset = test_dataset(root = r'C:\\Project\\python\\dataset\\加框后的JPEG图',\n",
    "                        batch_size=4,bg_r=96,bg_w=128,\n",
    "                        bg_root=r'C:\\Project\\python\\dataset\\background',\n",
    "                        img_num=1)\n",
    "\n",
    "for (img,label) in dataset:\n",
    "    print(img.shape)\n",
    "    img1 = np.array(img[0],dtype=np.uint8)\n",
    "    #绘制网格\n",
    "    for i in range(3):\n",
    "        for j in range(4):\n",
    "            y, x = 32 * i, 32 * j\n",
    "            img1 = cv2.rectangle(img1, (x, y), (x + 32, y + 32), color=(0, 0, 255))\n",
    "    img_pos=decode(label[0])\n",
    "    print(label[0])\n",
    "    print(img_pos)\n",
    "    for point in img_pos:\n",
    "        x, y = point\n",
    "        cv2.circle(img1, (int(x), int(y)), radius=2, color=(0, 255, 0))\n",
    "    plt.figure()\n",
    "    plt.imshow(img1[:, :, ::-1])\n",
    "    plt.show()"
   ]
  }
 ],
 "metadata": {
  "kernelspec": {
   "display_name": "tf2",
   "language": "python",
   "name": "python3"
  },
  "language_info": {
   "codemirror_mode": {
    "name": "ipython",
    "version": 3
   },
   "file_extension": ".py",
   "mimetype": "text/x-python",
   "name": "python",
   "nbconvert_exporter": "python",
   "pygments_lexer": "ipython3",
   "version": "3.8.15"
  },
  "orig_nbformat": 4,
  "vscode": {
   "interpreter": {
    "hash": "738be953785d66106b8e18111e09a691aebc73398edfc8fb020807bf5719e688"
   }
  }
 },
 "nbformat": 4,
 "nbformat_minor": 2
}
